{
 "cells": [
  {
   "cell_type": "code",
   "execution_count": 28,
   "metadata": {},
   "outputs": [
    {
     "name": "stdout",
     "output_type": "stream",
     "text": [
      "5\n",
      "5\n",
      "2.5\n",
      "2\n",
      "16\n",
      "2\n"
     ]
    }
   ],
   "source": [
    "# Mathematical Operations\n",
    "print(2+3)\n",
    "print(9-4)\n",
    "print(5/2)\n",
    "print(5//2)\n",
    "print(2**4)\n",
    "print(10%4)\n"
   ]
  },
  {
   "cell_type": "code",
   "execution_count": 18,
   "metadata": {},
   "outputs": [
    {
     "name": "stdout",
     "output_type": "stream",
     "text": [
      "abc'd\n",
      "ab'c\"d\"\n",
      "no\n",
      "e\n",
      "no\\ne\n"
     ]
    }
   ],
   "source": [
    "# String Operations\n",
    "print(\"abc'd\")\n",
    "\"abcd\"\n",
    "print('ab\\'c\"d\"')\n",
    "print(\"no\\ne\")\n",
    "print(r\"no\\ne\")"
   ]
  },
  {
   "cell_type": "code",
   "execution_count": 39,
   "metadata": {},
   "outputs": [
    {
     "name": "stdout",
     "output_type": "stream",
     "text": [
      "19\n",
      "li\n",
      "8\n",
      "0246\n"
     ]
    }
   ],
   "source": [
    "# Variables\n",
    "x=9\n",
    "print(x+10)\n",
    "name=\"variable\"\n",
    "name+ 'and'\n",
    "name='lizz'\n",
    "print(name[0:2])\n",
    "var='01234567'\n",
    "print(len(var))\n",
    "print(var[::2])"
   ]
  },
  {
   "cell_type": "code",
   "execution_count": 49,
   "metadata": {},
   "outputs": [
    {
     "name": "stdout",
     "output_type": "stream",
     "text": [
      "[6, 4, 9]\n",
      "[[5.7, 'name', '4'], ['orange', 'apple']]\n",
      "[[5.7, 'name', '4', 65], ['orange', 'banana', 'apple']]\n",
      "[5.7, 'name', '4']\n",
      "3\n",
      "[3, 4, 5, 6, 9]\n"
     ]
    }
   ],
   "source": [
    "#Lists\n",
    "array=[3,5,6,4,9]\n",
    "print(array[2:])\n",
    "data=[5.7,'name','4']\n",
    "values=['orange','apple']\n",
    "nested=[data,values]\n",
    "print(nested)\n",
    "data.append(65)\n",
    "values.insert(1,'banana')\n",
    "print(nested)\n",
    "data.pop()\n",
    "print(data)\n",
    "print(min(array))\n",
    "array.sort()\n",
    "print(array)"
   ]
  },
  {
   "cell_type": "code",
   "execution_count": 52,
   "metadata": {},
   "outputs": [
    {
     "name": "stdout",
     "output_type": "stream",
     "text": [
      "(4, 7, 56, 23, 45, 1)\n",
      "{34, 45, 55}\n"
     ]
    },
    {
     "data": {
      "text/plain": [
       "(4, 4, 4)"
      ]
     },
     "execution_count": 52,
     "metadata": {},
     "output_type": "execute_result"
    }
   ],
   "source": [
    "#Tuple,set, dictionary\n",
    "t=(4,7,56,23,45,1)\n",
    "s={55,45,34,45}\n",
    "print(t)\n",
    "print(s)\n",
    "Dict={\"A\":1,\"B\":\"2\",\"C\":[3,3,3],\"D\":(4,4,4),'E':5,'F':6}\n",
    "Dict[\"D\"]"
   ]
  },
  {
   "cell_type": "code",
   "execution_count": 60,
   "metadata": {},
   "outputs": [
    {
     "name": "stdout",
     "output_type": "stream",
     "text": [
      "positive\n",
      "odd\n"
     ]
    }
   ],
   "source": [
    "#Conditional Statements\n",
    "x=3\n",
    "r=x%2\n",
    "if r==0:\n",
    "    print(\"even\")\n",
    "elif x>0:\n",
    "    print(\"positive\")\n",
    "if r!=0:\n",
    "    print(\"odd\")"
   ]
  },
  {
   "cell_type": "code",
   "execution_count": 66,
   "metadata": {},
   "outputs": [
    {
     "name": "stdout",
     "output_type": "stream",
     "text": [
      "python programming programming programming programming \n",
      "python programming programming programming programming \n",
      "python programming programming programming programming \n",
      "python programming programming programming programming \n",
      "python programming programming programming programming \n"
     ]
    }
   ],
   "source": [
    "# While Loop\n",
    "i=1\n",
    "while i<=5:\n",
    "    print(\"python \",end=\"\")\n",
    "    j=1\n",
    "    while j<=4:\n",
    "        print(\"programming \",end=\"\")\n",
    "        j=j+1\n",
    "    i=i+1\n",
    "    print()"
   ]
  },
  {
   "cell_type": "code",
   "execution_count": 67,
   "metadata": {},
   "outputs": [
    {
     "name": "stdout",
     "output_type": "stream",
     "text": [
      "p\n",
      "y\n",
      "t\n",
      "h\n",
      "o\n",
      "n\n"
     ]
    }
   ],
   "source": [
    "#For Loop\n",
    "x=\"python\"\n",
    "for i in x:\n",
    "    print(i)"
   ]
  },
  {
   "cell_type": "code",
   "execution_count": 3,
   "metadata": {},
   "outputs": [],
   "source": [
    "#Importing Libraries for data analysis\n",
    "import pandas as pd\n",
    "import numpy as np\n",
    "import matplotlib as mpl\n",
    "import matplotlib.pyplot as plt\n",
    "%matplotlib inline\n",
    "import seaborn as sns\n",
    "import scipy.stats as st\n",
    "from sklearn import ensemble, tree, linear_model\n",
    "import missingno as msno\n"
   ]
  },
  {
   "cell_type": "code",
   "execution_count": 7,
   "metadata": {},
   "outputs": [
    {
     "name": "stdout",
     "output_type": "stream",
     "text": [
      "p: \n",
      "[[0, 2], [1, 3]]\n",
      "q: \n",
      "[[4, 0], [6, 9]]\n",
      "\n",
      "[[12 18]\n",
      " [22 27]]\n"
     ]
    }
   ],
   "source": [
    "# Working on 2-D array or Matrix\n",
    "import numpy as np\n",
    "p = [[0, 2], [1, 3]]\n",
    "q = [[4, 0], [6, 9]]\n",
    "print(\"p: \")\n",
    "print(p)\n",
    "print(\"q: \")\n",
    "print(q)\n",
    "result = np.dot(p, q)\n",
    "print()\n",
    "print(result)"
   ]
  },
  {
   "cell_type": "code",
   "execution_count": 11,
   "metadata": {},
   "outputs": [
    {
     "name": "stdout",
     "output_type": "stream",
     "text": [
      "     Subject  Marks\n",
      "0    physics     25\n",
      "1  chemistry     30\n",
      "2                26\n",
      "3      maths     22\n",
      "\n",
      "  Category  Marks\n",
      "0        a     20\n",
      "1        b     21\n",
      "2        c     19\n",
      "\n",
      "        xyz     pqr\n",
      "sn1  value1  value3\n",
      "sn2     NaN     NaN\n",
      "     ABCD   EFG  HIJK     abc     pqr     xyz\n",
      "sn1   NaN   NaN   NaN  value2  value3  value1\n",
      "sn2  10.0  20.0  30.0     NaN     NaN     NaN\n"
     ]
    }
   ],
   "source": [
    "#Working with dataframes\n",
    "import pandas as pd  \n",
    "lst = [['physics', 25], ['chemistry', 30], \n",
    "       ['', 26], ['maths', 22]]   \n",
    "df = pd.DataFrame(lst, columns =['Subject', 'Marks']) \n",
    "print(df )\n",
    "print()\n",
    "data = {'Category':['a', 'b', 'c'],\n",
    "        'Marks':[20, 21, 19]}\n",
    "df = pd.DataFrame(data)\n",
    "print(df )\n",
    "print()\n",
    "data = [{'xyz': 'value1', 'abc': 'value2', 'pqr': 'value3'},\n",
    "        {'ABCD':10, 'EFG': 20, 'HIJK': 30}] \n",
    "df1 = pd.DataFrame(data, index =['sn1', 'sn2'],\n",
    "                      columns =['xyz', 'pqr']) \n",
    "df2 = pd.DataFrame(data, index =['sn1', 'sn2']) \n",
    "      \n",
    "print (df1)  \n",
    "print (df2)"
   ]
  },
  {
   "cell_type": "code",
   "execution_count": 12,
   "metadata": {},
   "outputs": [
    {
     "name": "stdout",
     "output_type": "stream",
     "text": [
      "        Id  MSSubClass MSZoning  LotFrontage  LotArea Street Alley LotShape  \\\n",
      "0     1461          20       RH         80.0    11622   Pave   NaN      Reg   \n",
      "1     1462          20       RL         81.0    14267   Pave   NaN      IR1   \n",
      "2     1463          60       RL         74.0    13830   Pave   NaN      IR1   \n",
      "3     1464          60       RL         78.0     9978   Pave   NaN      IR1   \n",
      "4     1465         120       RL         43.0     5005   Pave   NaN      IR1   \n",
      "5     1466          60       RL         75.0    10000   Pave   NaN      IR1   \n",
      "6     1467          20       RL          NaN     7980   Pave   NaN      IR1   \n",
      "7     1468          60       RL         63.0     8402   Pave   NaN      IR1   \n",
      "8     1469          20       RL         85.0    10176   Pave   NaN      Reg   \n",
      "9     1470          20       RL         70.0     8400   Pave   NaN      Reg   \n",
      "10    1471         120       RH         26.0     5858   Pave   NaN      IR1   \n",
      "11    1472         160       RM         21.0     1680   Pave   NaN      Reg   \n",
      "12    1473         160       RM         21.0     1680   Pave   NaN      Reg   \n",
      "13    1474         160       RL         24.0     2280   Pave   NaN      Reg   \n",
      "14    1475         120       RL         24.0     2280   Pave   NaN      Reg   \n",
      "15    1476          60       RL        102.0    12858   Pave   NaN      IR1   \n",
      "16    1477          20       RL         94.0    12883   Pave   NaN      IR1   \n",
      "17    1478          20       RL         90.0    11520   Pave   NaN      Reg   \n",
      "18    1479          20       RL         79.0    14122   Pave   NaN      IR1   \n",
      "19    1480          20       RL        110.0    14300   Pave   NaN      Reg   \n",
      "20    1481          60       RL        105.0    13650   Pave   NaN      Reg   \n",
      "21    1482         120       RL         41.0     7132   Pave   NaN      IR1   \n",
      "22    1483          20       RL        100.0    18494   Pave   NaN      IR1   \n",
      "23    1484         120       RL         43.0     3203   Pave   NaN      Reg   \n",
      "24    1485          80       RL         67.0    13300   Pave   NaN      IR1   \n",
      "25    1486          60       RL         63.0     8577   Pave   NaN      IR1   \n",
      "26    1487          60       RL         60.0    17433   Pave   NaN      IR2   \n",
      "27    1488          20       RL         73.0     8987   Pave   NaN      Reg   \n",
      "28    1489          20       FV         92.0     9215   Pave   NaN      Reg   \n",
      "29    1490          20       FV         84.0    10440   Pave   NaN      Reg   \n",
      "...    ...         ...      ...          ...      ...    ...   ...      ...   \n",
      "1429  2890          30       RM         50.0     7030   Pave   NaN      Reg   \n",
      "1430  2891          50       RM         75.0     9060   Pave   NaN      Reg   \n",
      "1431  2892          30  C (all)         69.0    12366   Pave   NaN      Reg   \n",
      "1432  2893         190  C (all)         50.0     9000   Pave   NaN      Reg   \n",
      "1433  2894          50  C (all)         60.0     8520   Grvl   NaN      Reg   \n",
      "1434  2895         120       RM         41.0     5748   Pave   NaN      IR1   \n",
      "1435  2896         120       RM         44.0     3842   Pave   NaN      IR1   \n",
      "1436  2897          20       RL         69.0    23580   Pave   NaN      IR1   \n",
      "1437  2898          90       RL         65.0     8385   Pave   NaN      Reg   \n",
      "1438  2899          20       RL         70.0     9116   Pave   NaN      Reg   \n",
      "1439  2900          80       RL        140.0    11080   Pave   NaN      Reg   \n",
      "1440  2901          20       RL          NaN    50102   Pave   NaN      IR1   \n",
      "1441  2902          20       RL          NaN     8098   Pave   NaN      IR1   \n",
      "1442  2903          20       RL         95.0    13618   Pave   NaN      Reg   \n",
      "1443  2904          20       RL         88.0    11577   Pave   NaN      Reg   \n",
      "1444  2905          20      NaN        125.0    31250   Pave   NaN      Reg   \n",
      "1445  2906          90       RM         78.0     7020   Pave   NaN      Reg   \n",
      "1446  2907         160       RM         41.0     2665   Pave   NaN      Reg   \n",
      "1447  2908          20       RL         58.0    10172   Pave   NaN      IR1   \n",
      "1448  2909          90       RL          NaN    11836   Pave   NaN      IR1   \n",
      "1449  2910         180       RM         21.0     1470   Pave   NaN      Reg   \n",
      "1450  2911         160       RM         21.0     1484   Pave   NaN      Reg   \n",
      "1451  2912          20       RL         80.0    13384   Pave   NaN      Reg   \n",
      "1452  2913         160       RM         21.0     1533   Pave   NaN      Reg   \n",
      "1453  2914         160       RM         21.0     1526   Pave   NaN      Reg   \n",
      "1454  2915         160       RM         21.0     1936   Pave   NaN      Reg   \n",
      "1455  2916         160       RM         21.0     1894   Pave   NaN      Reg   \n",
      "1456  2917          20       RL        160.0    20000   Pave   NaN      Reg   \n",
      "1457  2918          85       RL         62.0    10441   Pave   NaN      Reg   \n",
      "1458  2919          60       RL         74.0     9627   Pave   NaN      Reg   \n",
      "\n",
      "     LandContour Utilities  ... ScreenPorch PoolArea PoolQC  Fence  \\\n",
      "0            Lvl    AllPub  ...         120        0    NaN  MnPrv   \n",
      "1            Lvl    AllPub  ...           0        0    NaN    NaN   \n",
      "2            Lvl    AllPub  ...           0        0    NaN  MnPrv   \n",
      "3            Lvl    AllPub  ...           0        0    NaN    NaN   \n",
      "4            HLS    AllPub  ...         144        0    NaN    NaN   \n",
      "5            Lvl    AllPub  ...           0        0    NaN    NaN   \n",
      "6            Lvl    AllPub  ...           0        0    NaN  GdPrv   \n",
      "7            Lvl    AllPub  ...           0        0    NaN    NaN   \n",
      "8            Lvl    AllPub  ...           0        0    NaN    NaN   \n",
      "9            Lvl    AllPub  ...           0        0    NaN  MnPrv   \n",
      "10           Lvl    AllPub  ...           0        0    NaN    NaN   \n",
      "11           Lvl    AllPub  ...           0        0    NaN    NaN   \n",
      "12           Lvl    AllPub  ...           0        0    NaN    NaN   \n",
      "13           Lvl    AllPub  ...           0        0    NaN    NaN   \n",
      "14           Lvl    AllPub  ...           0        0    NaN    NaN   \n",
      "15           Lvl    AllPub  ...           0        0    NaN    NaN   \n",
      "16           Lvl    AllPub  ...           0        0    NaN    NaN   \n",
      "17           Lvl    AllPub  ...           0        0    NaN    NaN   \n",
      "18           Lvl    AllPub  ...           0        0    NaN    NaN   \n",
      "19           HLS    AllPub  ...           0        0    NaN    NaN   \n",
      "20           Lvl    AllPub  ...           0        0    NaN    NaN   \n",
      "21           Lvl    AllPub  ...           0        0    NaN    NaN   \n",
      "22           Lvl    AllPub  ...           0        0    NaN    NaN   \n",
      "23           Lvl    AllPub  ...           0        0    NaN    NaN   \n",
      "24           Lvl    AllPub  ...           0        0    NaN    NaN   \n",
      "25           Lvl    AllPub  ...           0        0    NaN    NaN   \n",
      "26           Lvl    AllPub  ...         256        0    NaN    NaN   \n",
      "27           Lvl    AllPub  ...           0        0    NaN    NaN   \n",
      "28           Lvl    AllPub  ...           0        0    NaN    NaN   \n",
      "29           Lvl    AllPub  ...         216        0    NaN    NaN   \n",
      "...          ...       ...  ...         ...      ...    ...    ...   \n",
      "1429         Lvl    AllPub  ...           0        0    NaN  MnPrv   \n",
      "1430         Lvl    AllPub  ...           0        0    NaN    NaN   \n",
      "1431         Lvl    AllPub  ...           0        0    NaN    NaN   \n",
      "1432         Lvl    AllPub  ...           0        0    NaN    NaN   \n",
      "1433         Bnk    AllPub  ...           0        0    NaN    NaN   \n",
      "1434         HLS    AllPub  ...         153        0    NaN    NaN   \n",
      "1435         HLS    AllPub  ...         155        0    NaN    NaN   \n",
      "1436         Lvl    AllPub  ...           0        0    NaN    NaN   \n",
      "1437         Lvl    AllPub  ...           0        0    NaN    NaN   \n",
      "1438         Lvl    AllPub  ...           0        0    NaN    NaN   \n",
      "1439         Lvl    AllPub  ...           0        0    NaN    NaN   \n",
      "1440         Low    AllPub  ...         138        0    NaN    NaN   \n",
      "1441         Lvl    AllPub  ...           0        0    NaN    NaN   \n",
      "1442         Lvl    AllPub  ...           0        0    NaN    NaN   \n",
      "1443         Lvl    AllPub  ...           0        0    NaN    NaN   \n",
      "1444         Lvl    AllPub  ...           0        0    NaN    NaN   \n",
      "1445         Lvl    AllPub  ...           0        0    NaN    NaN   \n",
      "1446         Lvl    AllPub  ...           0        0    NaN    NaN   \n",
      "1447         Lvl    AllPub  ...           0        0    NaN    NaN   \n",
      "1448         Lvl    AllPub  ...           0        0    NaN    NaN   \n",
      "1449         Lvl    AllPub  ...           0        0    NaN    NaN   \n",
      "1450         Lvl    AllPub  ...           0        0    NaN    NaN   \n",
      "1451         Lvl    AllPub  ...           0        0    NaN    NaN   \n",
      "1452         Lvl    AllPub  ...           0        0    NaN    NaN   \n",
      "1453         Lvl    AllPub  ...           0        0    NaN  GdPrv   \n",
      "1454         Lvl    AllPub  ...           0        0    NaN    NaN   \n",
      "1455         Lvl    AllPub  ...           0        0    NaN    NaN   \n",
      "1456         Lvl    AllPub  ...           0        0    NaN    NaN   \n",
      "1457         Lvl    AllPub  ...           0        0    NaN  MnPrv   \n",
      "1458         Lvl    AllPub  ...           0        0    NaN    NaN   \n",
      "\n",
      "     MiscFeature MiscVal MoSold  YrSold  SaleType  SaleCondition  \n",
      "0            NaN       0      6    2010        WD         Normal  \n",
      "1           Gar2   12500      6    2010        WD         Normal  \n",
      "2            NaN       0      3    2010        WD         Normal  \n",
      "3            NaN       0      6    2010        WD         Normal  \n",
      "4            NaN       0      1    2010        WD         Normal  \n",
      "5            NaN       0      4    2010        WD         Normal  \n",
      "6           Shed     500      3    2010        WD         Normal  \n",
      "7            NaN       0      5    2010        WD         Normal  \n",
      "8            NaN       0      2    2010        WD         Normal  \n",
      "9            NaN       0      4    2010        WD         Normal  \n",
      "10           NaN       0      6    2010        WD         Normal  \n",
      "11           NaN       0      2    2010       COD         Normal  \n",
      "12           NaN       0      3    2010        WD         Normal  \n",
      "13           NaN       0      6    2010        WD         Normal  \n",
      "14           NaN       0      6    2010        WD         Normal  \n",
      "15           NaN       0      1    2010       New        Partial  \n",
      "16           NaN       0      6    2010       New        Partial  \n",
      "17           NaN       0      6    2010        WD         Normal  \n",
      "18           NaN       0      2    2010        WD         Normal  \n",
      "19           NaN       0      6    2010        WD         Normal  \n",
      "20           NaN       0      6    2010        WD         Normal  \n",
      "21           NaN       0      4    2010        WD         Normal  \n",
      "22           NaN       0      1    2010        WD         Normal  \n",
      "23           NaN       0      1    2010        WD         Normal  \n",
      "24           NaN       0      6    2010        WD         Normal  \n",
      "25           NaN       0      4    2010        WD         Normal  \n",
      "26           NaN       0      1    2010        WD         Normal  \n",
      "27           NaN       0      5    2010        WD         Normal  \n",
      "28           NaN       0      4    2010       New        Partial  \n",
      "29           NaN       0      5    2010        WD         Normal  \n",
      "...          ...     ...    ...     ...       ...            ...  \n",
      "1429         NaN       0      3    2006        WD         Normal  \n",
      "1430         NaN       0      4    2006        WD         Normal  \n",
      "1431         NaN       0     10    2006        WD        Abnorml  \n",
      "1432         NaN       0     10    2006        WD        Abnorml  \n",
      "1433         NaN       0      4    2006        WD         Normal  \n",
      "1434         NaN       0      2    2006       New        Partial  \n",
      "1435         NaN       0     12    2006        WD         Normal  \n",
      "1436         NaN       0      9    2006        WD         Normal  \n",
      "1437         NaN       0     10    2006        WD         Normal  \n",
      "1438         NaN       0      5    2006        WD         Normal  \n",
      "1439         NaN       0      5    2006        WD         Normal  \n",
      "1440         NaN       0      3    2006        WD         Alloca  \n",
      "1441         NaN       0     10    2006        WD         Normal  \n",
      "1442         NaN       0     11    2006       New        Partial  \n",
      "1443         NaN       0      9    2006       New        Partial  \n",
      "1444         NaN       0      5    2006        WD         Normal  \n",
      "1445         NaN       0     11    2006        WD         Normal  \n",
      "1446         NaN       0      5    2006        WD         Normal  \n",
      "1447         NaN       0     10    2006        WD         Normal  \n",
      "1448         NaN       0      3    2006        WD         Normal  \n",
      "1449         NaN       0      4    2006        WD         Normal  \n",
      "1450         NaN       0      5    2006        WD         Normal  \n",
      "1451         NaN       0      5    2006        WD         Normal  \n",
      "1452         NaN       0     12    2006        WD        Abnorml  \n",
      "1453         NaN       0      6    2006        WD         Normal  \n",
      "1454         NaN       0      6    2006        WD         Normal  \n",
      "1455         NaN       0      4    2006        WD        Abnorml  \n",
      "1456         NaN       0      9    2006        WD        Abnorml  \n",
      "1457        Shed     700      7    2006        WD         Normal  \n",
      "1458         NaN       0     11    2006        WD         Normal  \n",
      "\n",
      "[1459 rows x 80 columns]\n"
     ]
    }
   ],
   "source": [
    "import pandas as pd\n",
    "digits = pd.read_csv('./test.csv')\n",
    "print(digits)"
   ]
  },
  {
   "cell_type": "code",
   "execution_count": 13,
   "metadata": {},
   "outputs": [
    {
     "name": "stdout",
     "output_type": "stream",
     "text": [
      "Index(['Id', 'MSSubClass', 'MSZoning', 'LotFrontage', 'LotArea', 'Street',\n",
      "       'Alley', 'LotShape', 'LandContour', 'Utilities', 'LotConfig',\n",
      "       'LandSlope', 'Neighborhood', 'Condition1', 'Condition2', 'BldgType',\n",
      "       'HouseStyle', 'OverallQual', 'OverallCond', 'YearBuilt', 'YearRemodAdd',\n",
      "       'RoofStyle', 'RoofMatl', 'Exterior1st', 'Exterior2nd', 'MasVnrType',\n",
      "       'MasVnrArea', 'ExterQual', 'ExterCond', 'Foundation', 'BsmtQual',\n",
      "       'BsmtCond', 'BsmtExposure', 'BsmtFinType1', 'BsmtFinSF1',\n",
      "       'BsmtFinType2', 'BsmtFinSF2', 'BsmtUnfSF', 'TotalBsmtSF', 'Heating',\n",
      "       'HeatingQC', 'CentralAir', 'Electrical', '1stFlrSF', '2ndFlrSF',\n",
      "       'LowQualFinSF', 'GrLivArea', 'BsmtFullBath', 'BsmtHalfBath', 'FullBath',\n",
      "       'HalfBath', 'BedroomAbvGr', 'KitchenAbvGr', 'KitchenQual',\n",
      "       'TotRmsAbvGrd', 'Functional', 'Fireplaces', 'FireplaceQu', 'GarageType',\n",
      "       'GarageYrBlt', 'GarageFinish', 'GarageCars', 'GarageArea', 'GarageQual',\n",
      "       'GarageCond', 'PavedDrive', 'WoodDeckSF', 'OpenPorchSF',\n",
      "       'EnclosedPorch', '3SsnPorch', 'ScreenPorch', 'PoolArea', 'PoolQC',\n",
      "       'Fence', 'MiscFeature', 'MiscVal', 'MoSold', 'YrSold', 'SaleType',\n",
      "       'SaleCondition'],\n",
      "      dtype='object')\n"
     ]
    }
   ],
   "source": [
    "print(digits.keys())"
   ]
  },
  {
   "cell_type": "code",
   "execution_count": 16,
   "metadata": {},
   "outputs": [
    {
     "data": {
      "image/png": "[encoded data removed]",
      "text/plain": [
       "<Figure size 432x288 with 1 Axes>"
      ]
     },
     "metadata": {
      "needs_background": "light"
     },
     "output_type": "display_data"
    }
   ],
   "source": [
    "import matplotlib.pyplot as plt\n",
    "data= './test.csv'\n",
    "plt.hist(data, num, histtype='bar', rwidth=0.5)\n",
    "plt.show()"
   ]
  }
 ],
 "metadata": {
  "kernelspec": {
   "display_name": "Python 3",
   "language": "python",
   "name": "python3"
  },
  "language_info": {
   "codemirror_mode": {
    "name": "ipython",
    "version": 3
   },
   "file_extension": ".py",
   "mimetype": "text/x-python",
   "name": "python",
   "nbconvert_exporter": "python",
   "pygments_lexer": "ipython3",
   "version": "3.7.3"
  }
 },
 "nbformat": 4,
 "nbformat_minor": 2
}
