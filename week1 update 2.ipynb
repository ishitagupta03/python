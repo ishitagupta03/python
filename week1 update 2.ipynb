{
 "cells": [
  {
   "cell_type": "code",
   "execution_count": 28,
   "metadata": {},
   "outputs": [
    {
     "name": "stdout",
     "output_type": "stream",
     "text": [
      "5\n",
      "5\n",
      "2.5\n",
      "2\n",
      "16\n",
      "2\n"
     ]
    }
   ],
   "source": [
    "# Mathematical Operations\n",
    "print(2+3)\n",
    "print(9-4)\n",
    "print(5/2)\n",
    "print(5//2)\n",
    "print(2**4)\n",
    "print(10%4)\n"
   ]
  },
  {
   "cell_type": "code",
   "execution_count": 18,
   "metadata": {},
   "outputs": [
    {
     "name": "stdout",
     "output_type": "stream",
     "text": [
      "abc'd\n",
      "ab'c\"d\"\n",
      "no\n",
      "e\n",
      "no\\ne\n"
     ]
    }
   ],
   "source": [
    "# String Operations\n",
    "print(\"abc'd\")\n",
    "\"abcd\"\n",
    "print('ab\\'c\"d\"')\n",
    "print(\"no\\ne\")\n",
    "print(r\"no\\ne\")"
   ]
  },
  {
   "cell_type": "code",
   "execution_count": 39,
   "metadata": {},
   "outputs": [
    {
     "name": "stdout",
     "output_type": "stream",
     "text": [
      "19\n",
      "li\n",
      "8\n",
      "0246\n"
     ]
    }
   ],
   "source": [
    "# Variables\n",
    "x=9\n",
    "print(x+10)\n",
    "name=\"variable\"\n",
    "name+ 'and'\n",
    "name='lizz'\n",
    "print(name[0:2])\n",
    "var='01234567'\n",
    "print(len(var))\n",
    "print(var[::2])"
   ]
  },
  {
   "cell_type": "code",
   "execution_count": 49,
   "metadata": {},
   "outputs": [
    {
     "name": "stdout",
     "output_type": "stream",
     "text": [
      "[6, 4, 9]\n",
      "[[5.7, 'name', '4'], ['orange', 'apple']]\n",
      "[[5.7, 'name', '4', 65], ['orange', 'banana', 'apple']]\n",
      "[5.7, 'name', '4']\n",
      "3\n",
      "[3, 4, 5, 6, 9]\n"
     ]
    }
   ],
   "source": [
    "#Lists\n",
    "array=[3,5,6,4,9]\n",
    "print(array[2:])\n",
    "data=[5.7,'name','4']\n",
    "values=['orange','apple']\n",
    "nested=[data,values]\n",
    "print(nested)\n",
    "data.append(65)\n",
    "values.insert(1,'banana')\n",
    "print(nested)\n",
    "data.pop()\n",
    "print(data)\n",
    "print(min(array))\n",
    "array.sort()\n",
    "print(array)"
   ]
  },
  {
   "cell_type": "code",
   "execution_count": 52,
   "metadata": {},
   "outputs": [
    {
     "name": "stdout",
     "output_type": "stream",
     "text": [
      "(4, 7, 56, 23, 45, 1)\n",
      "{34, 45, 55}\n"
     ]
    },
    {
     "data": {
      "text/plain": [
       "(4, 4, 4)"
      ]
     },
     "execution_count": 52,
     "metadata": {},
     "output_type": "execute_result"
    }
   ],
   "source": [
    "#Tuple,set, dictionary\n",
    "t=(4,7,56,23,45,1)\n",
    "s={55,45,34,45}\n",
    "print(t)\n",
    "print(s)\n",
    "Dict={\"A\":1,\"B\":\"2\",\"C\":[3,3,3],\"D\":(4,4,4),'E':5,'F':6}\n",
    "Dict[\"D\"]"
   ]
  },
  {
   "cell_type": "code",
   "execution_count": 60,
   "metadata": {},
   "outputs": [
    {
     "name": "stdout",
     "output_type": "stream",
     "text": [
      "positive\n",
      "odd\n"
     ]
    }
   ],
   "source": [
    "#Conditional Statements\n",
    "x=3\n",
    "r=x%2\n",
    "if r==0:\n",
    "    print(\"even\")\n",
    "elif x>0:\n",
    "    print(\"positive\")\n",
    "if r!=0:\n",
    "    print(\"odd\")"
   ]
  },
  {
   "cell_type": "code",
   "execution_count": 66,
   "metadata": {},
   "outputs": [
    {
     "name": "stdout",
     "output_type": "stream",
     "text": [
      "python programming programming programming programming \n",
      "python programming programming programming programming \n",
      "python programming programming programming programming \n",
      "python programming programming programming programming \n",
      "python programming programming programming programming \n"
     ]
    }
   ],
   "source": [
    "# While Loop\n",
    "i=1\n",
    "while i<=5:\n",
    "    print(\"python \",end=\"\")\n",
    "    j=1\n",
    "    while j<=4:\n",
    "        print(\"programming \",end=\"\")\n",
    "        j=j+1\n",
    "    i=i+1\n",
    "    print()"
   ]
  },
  {
   "cell_type": "code",
   "execution_count": 67,
   "metadata": {},
   "outputs": [
    {
     "name": "stdout",
     "output_type": "stream",
     "text": [
      "p\n",
      "y\n",
      "t\n",
      "h\n",
      "o\n",
      "n\n"
     ]
    }
   ],
   "source": [
    "#For Loop\n",
    "x=\"python\"\n",
    "for i in x:\n",
    "    print(i)"
   ]
  },
  {
   "cell_type": "code",
   "execution_count": 3,
   "metadata": {},
   "outputs": [],
   "source": [
    "#Importing Libraries for data analysis\n",
    "import pandas as pd\n",
    "import numpy as np\n",
    "import matplotlib as mpl\n",
    "import matplotlib.pyplot as plt\n",
    "%matplotlib inline\n",
    "import seaborn as sns\n",
    "import scipy.stats as st\n",
    "from sklearn import ensemble, tree, linear_model\n",
    "import missingno as msno\n"
   ]
  },
  {
   "cell_type": "code",
   "execution_count": 7,
   "metadata": {},
   "outputs": [
    {
     "name": "stdout",
     "output_type": "stream",
     "text": [
      "p: \n",
      "[[0, 2], [1, 3]]\n",
      "q: \n",
      "[[4, 0], [6, 9]]\n",
      "\n",
      "[[12 18]\n",
      " [22 27]]\n"
     ]
    }
   ],
   "source": [
    "# Working on 2-D array or Matrix\n",
    "import numpy as np\n",
    "p = [[0, 2], [1, 3]]\n",
    "q = [[4, 0], [6, 9]]\n",
    "print(\"p: \")\n",
    "print(p)\n",
    "print(\"q: \")\n",
    "print(q)\n",
    "result = np.dot(p, q)\n",
    "print()\n",
    "print(result)"
   ]
  },
  {
   "cell_type": "code",
   "execution_count": 11,
   "metadata": {},
   "outputs": [
    {
     "name": "stdout",
     "output_type": "stream",
     "text": [
      "     Subject  Marks\n",
      "0    physics     25\n",
      "1  chemistry     30\n",
      "2                26\n",
      "3      maths     22\n",
      "\n",
      "  Category  Marks\n",
      "0        a     20\n",
      "1        b     21\n",
      "2        c     19\n",
      "\n",
      "        xyz     pqr\n",
      "sn1  value1  value3\n",
      "sn2     NaN     NaN\n",
      "     ABCD   EFG  HIJK     abc     pqr     xyz\n",
      "sn1   NaN   NaN   NaN  value2  value3  value1\n",
      "sn2  10.0  20.0  30.0     NaN     NaN     NaN\n"
     ]
    }
   ],
   "source": [
    "#Working with dataframes\n",
    "import pandas as pd  \n",
    "lst = [['physics', 25], ['chemistry', 30], \n",
    "       ['', 26], ['maths', 22]]   \n",
    "df = pd.DataFrame(lst, columns =['Subject', 'Marks']) \n",
    "print(df )\n",
    "print()\n",
    "data = {'Category':['a', 'b', 'c'],\n",
    "        'Marks':[20, 21, 19]}\n",
    "df = pd.DataFrame(data)\n",
    "print(df )\n",
    "print()\n",
    "data = [{'xyz': 'value1', 'abc': 'value2', 'pqr': 'value3'},\n",
    "        {'ABCD':10, 'EFG': 20, 'HIJK': 30}] \n",
    "df1 = pd.DataFrame(data, index =['sn1', 'sn2'],\n",
    "                      columns =['xyz', 'pqr']) \n",
    "df2 = pd.DataFrame(data, index =['sn1', 'sn2']) \n",
    "      \n",
    "print (df1)  \n",
    "print (df2)"
   ]
  },
  {
   "cell_type": "code",
   "execution_count": 13,
   "metadata": {},
   "outputs": [
    {
     "name": "stdout",
     "output_type": "stream",
     "text": [
      "Index(['Id', 'MSSubClass', 'MSZoning', 'LotFrontage', 'LotArea', 'Street',\n",
      "       'Alley', 'LotShape', 'LandContour', 'Utilities', 'LotConfig',\n",
      "       'LandSlope', 'Neighborhood', 'Condition1', 'Condition2', 'BldgType',\n",
      "       'HouseStyle', 'OverallQual', 'OverallCond', 'YearBuilt', 'YearRemodAdd',\n",
      "       'RoofStyle', 'RoofMatl', 'Exterior1st', 'Exterior2nd', 'MasVnrType',\n",
      "       'MasVnrArea', 'ExterQual', 'ExterCond', 'Foundation', 'BsmtQual',\n",
      "       'BsmtCond', 'BsmtExposure', 'BsmtFinType1', 'BsmtFinSF1',\n",
      "       'BsmtFinType2', 'BsmtFinSF2', 'BsmtUnfSF', 'TotalBsmtSF', 'Heating',\n",
      "       'HeatingQC', 'CentralAir', 'Electrical', '1stFlrSF', '2ndFlrSF',\n",
      "       'LowQualFinSF', 'GrLivArea', 'BsmtFullBath', 'BsmtHalfBath', 'FullBath',\n",
      "       'HalfBath', 'BedroomAbvGr', 'KitchenAbvGr', 'KitchenQual',\n",
      "       'TotRmsAbvGrd', 'Functional', 'Fireplaces', 'FireplaceQu', 'GarageType',\n",
      "       'GarageYrBlt', 'GarageFinish', 'GarageCars', 'GarageArea', 'GarageQual',\n",
      "       'GarageCond', 'PavedDrive', 'WoodDeckSF', 'OpenPorchSF',\n",
      "       'EnclosedPorch', '3SsnPorch', 'ScreenPorch', 'PoolArea', 'PoolQC',\n",
      "       'Fence', 'MiscFeature', 'MiscVal', 'MoSold', 'YrSold', 'SaleType',\n",
      "       'SaleCondition'],\n",
      "      dtype='object')\n"
     ]
    }
   ],
   "source": [
    "print(digits.keys())"
   ]
  },
  {
   "cell_type": "code",
   "execution_count": 17,
   "metadata": {},
   "outputs": [
    {
     "data": {
      "image/png": "[encoded data removed]",
      "text/plain": [
       "<Figure size 432x288 with 1 Axes>"
      ]
     },
     "metadata": {
      "needs_background": "light"
     },
     "output_type": "display_data"
    }
   ],
   "source": [
    "import matplotlib.pyplot as plt\n",
    "Cases = [23,76,84,73,75,97,25,35,46,72,85,74,34,89,20,48]\n",
    "data = [0,10,20,30,40,50,60,70,80,90,100]\n",
    "plt.hist(Cases, data, histtype='bar', rwidth=0.5)\n",
    "plt.xlabel('data')\n",
    "plt.ylabel('cases')\n",
    "plt.show()"
   ]
  },
  {
   "cell_type": "code",
   "execution_count": 19,
   "metadata": {},
   "outputs": [
    {
     "data": {
      "image/png": "[encoded data removed]",
      "text/plain": [
       "<Figure size 432x288 with 1 Axes>"
      ]
     },
     "metadata": {},
     "output_type": "display_data"
    }
   ],
   "source": [
    "import matplotlib.pyplot as plt\n",
    "trends=[14,34,23,31]\n",
    "fields=['data science','data engineer','software developer','software tester']\n",
    "plt.pie(trends,labels=fields)\n",
    "plt.title('PIE CHART')\n",
    "plt.show()"
   ]
  }
 ],
 "metadata": {
  "kernelspec": {
   "display_name": "Python 3",
   "language": "python",
   "name": "python3"
  },
  "language_info": {
   "codemirror_mode": {
    "name": "ipython",
    "version": 3
   },
   "file_extension": ".py",
   "mimetype": "text/x-python",
   "name": "python",
   "nbconvert_exporter": "python",
   "pygments_lexer": "ipython3",
   "version": "3.7.3"
  }
 },
 "nbformat": 4,
 "nbformat_minor": 2
}
